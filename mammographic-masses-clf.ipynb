{
 "cells": [
  {
   "cell_type": "markdown",
   "metadata": {
    "deletable": true,
    "editable": true
   },
   "source": [
    "## Predicting whether a mammogram mass is benign or malignant\n",
    "\n",
    "We'll be using the \"mammographic masses\" public dataset from the UCI repository (source: https://archive.ics.uci.edu/ml/datasets/Mammographic+Mass)\n",
    "\n",
    "This data contains 961 instances of masses detected in mammograms, and contains the following attributes:\n",
    "\n",
    "\n",
    "   1. BI-RADS assessment: 1 to 5 (ordinal)  \n",
    "   2. Age: patient's age in years (integer)\n",
    "   3. Shape: mass shape: round=1 oval=2 lobular=3 irregular=4 (nominal)\n",
    "   4. Margin: mass margin: circumscribed=1 microlobulated=2 obscured=3 ill-defined=4 spiculated=5 (nominal)\n",
    "   5. Density: mass density high=1 iso=2 low=3 fat-containing=4 (ordinal)\n",
    "   6. Severity: benign=0 or malignant=1 (binominal)\n",
    "   \n",
    "BI-RADS is an assesment of how confident the severity classification is; it is not a \"predictive\" attribute and so it will be discarded. The age, shape, margin, and density attributes are the features that will be used to build the model with, and \"severity\" is the classification we will attempt to predict based on those attributes.\n",
    "\n",
    "\n",
    "Several different machine learning techniques will be applied to this data set to see which one yields the highest accuracy as measured with K-Fold cross validation (K=10):\n",
    "\n",
    "* Decision tree\n",
    "* Random forest\n",
    "* KNN\n",
    "* Naive Bayes\n",
    "* SVM\n",
    "* Logistic Regression\n",
    "* Keras neural network\n",
    "\n",
    "The data needs to be cleaned and normalized; many rows contain missing data, and there may be erroneous data identifiable as outliers as well."
   ]
  },
  {
   "cell_type": "code",
   "execution_count": 32,
   "metadata": {
    "collapsed": false,
    "deletable": true,
    "editable": true
   },
   "outputs": [],
   "source": [
    "import pandas as pd\n",
    "import numpy as numpy\n",
    "\n",
    "from sklearn import tree, svm\n",
    "from sklearn.model_selection import train_test_split, cross_val_score\n",
    "from sklearn.preprocessing import StandardScaler\n",
    "from sklearn.ensemble import RandomForestClassifier\n",
    "from sklearn.neighbors import KNeighborsClassifier\n",
    "\n"
   ]
  },
  {
   "cell_type": "markdown",
   "metadata": {
    "deletable": true,
    "editable": true
   },
   "source": [
    "## Preparing the data\n",
    "Import of the data set, converting missing values (indicated as ?), setting column names."
   ]
  },
  {
   "cell_type": "code",
   "execution_count": 94,
   "metadata": {},
   "outputs": [
    {
     "output_type": "execute_result",
     "data": {
      "text/plain": [
       "   BI_RADS   age  shape  margin  density  severity\n",
       "0      5.0  67.0    3.0     5.0      3.0         1\n",
       "1      4.0  43.0    1.0     1.0      NaN         1\n",
       "2      5.0  58.0    4.0     5.0      3.0         1\n",
       "3      4.0  28.0    1.0     1.0      3.0         0\n",
       "4      5.0  74.0    1.0     5.0      NaN         1"
      ],
      "text/html": "<div>\n<style scoped>\n    .dataframe tbody tr th:only-of-type {\n        vertical-align: middle;\n    }\n\n    .dataframe tbody tr th {\n        vertical-align: top;\n    }\n\n    .dataframe thead th {\n        text-align: right;\n    }\n</style>\n<table border=\"1\" class=\"dataframe\">\n  <thead>\n    <tr style=\"text-align: right;\">\n      <th></th>\n      <th>BI_RADS</th>\n      <th>age</th>\n      <th>shape</th>\n      <th>margin</th>\n      <th>density</th>\n      <th>severity</th>\n    </tr>\n  </thead>\n  <tbody>\n    <tr>\n      <th>0</th>\n      <td>5.0</td>\n      <td>67.0</td>\n      <td>3.0</td>\n      <td>5.0</td>\n      <td>3.0</td>\n      <td>1</td>\n    </tr>\n    <tr>\n      <th>1</th>\n      <td>4.0</td>\n      <td>43.0</td>\n      <td>1.0</td>\n      <td>1.0</td>\n      <td>NaN</td>\n      <td>1</td>\n    </tr>\n    <tr>\n      <th>2</th>\n      <td>5.0</td>\n      <td>58.0</td>\n      <td>4.0</td>\n      <td>5.0</td>\n      <td>3.0</td>\n      <td>1</td>\n    </tr>\n    <tr>\n      <th>3</th>\n      <td>4.0</td>\n      <td>28.0</td>\n      <td>1.0</td>\n      <td>1.0</td>\n      <td>3.0</td>\n      <td>0</td>\n    </tr>\n    <tr>\n      <th>4</th>\n      <td>5.0</td>\n      <td>74.0</td>\n      <td>1.0</td>\n      <td>5.0</td>\n      <td>NaN</td>\n      <td>1</td>\n    </tr>\n  </tbody>\n</table>\n</div>"
     },
     "metadata": {},
     "execution_count": 94
    }
   ],
   "source": [
    "col_names = ['BI_RADS', 'age', 'shape', 'margin', 'density', 'severity']\n",
    "df = pd.read_csv('mammographic_masses.data.txt', na_values='?', header=None, names=col_names)\n",
    "df.head()"
   ]
  },
  {
   "cell_type": "markdown",
   "metadata": {
    "deletable": true,
    "editable": true
   },
   "source": [
    "Evaluation of the data we have."
   ]
  },
  {
   "cell_type": "code",
   "execution_count": 95,
   "metadata": {
    "collapsed": false,
    "deletable": true,
    "editable": true
   },
   "outputs": [
    {
     "output_type": "execute_result",
     "data": {
      "text/plain": [
       "          BI_RADS         age       shape      margin     density    severity\n",
       "count  959.000000  956.000000  930.000000  913.000000  885.000000  961.000000\n",
       "mean     4.348279   55.487448    2.721505    2.796276    2.910734    0.463059\n",
       "std      1.783031   14.480131    1.242792    1.566546    0.380444    0.498893\n",
       "min      0.000000   18.000000    1.000000    1.000000    1.000000    0.000000\n",
       "25%      4.000000   45.000000    2.000000    1.000000    3.000000    0.000000\n",
       "50%      4.000000   57.000000    3.000000    3.000000    3.000000    0.000000\n",
       "75%      5.000000   66.000000    4.000000    4.000000    3.000000    1.000000\n",
       "max     55.000000   96.000000    4.000000    5.000000    4.000000    1.000000"
      ],
      "text/html": "<div>\n<style scoped>\n    .dataframe tbody tr th:only-of-type {\n        vertical-align: middle;\n    }\n\n    .dataframe tbody tr th {\n        vertical-align: top;\n    }\n\n    .dataframe thead th {\n        text-align: right;\n    }\n</style>\n<table border=\"1\" class=\"dataframe\">\n  <thead>\n    <tr style=\"text-align: right;\">\n      <th></th>\n      <th>BI_RADS</th>\n      <th>age</th>\n      <th>shape</th>\n      <th>margin</th>\n      <th>density</th>\n      <th>severity</th>\n    </tr>\n  </thead>\n  <tbody>\n    <tr>\n      <th>count</th>\n      <td>959.000000</td>\n      <td>956.000000</td>\n      <td>930.000000</td>\n      <td>913.000000</td>\n      <td>885.000000</td>\n      <td>961.000000</td>\n    </tr>\n    <tr>\n      <th>mean</th>\n      <td>4.348279</td>\n      <td>55.487448</td>\n      <td>2.721505</td>\n      <td>2.796276</td>\n      <td>2.910734</td>\n      <td>0.463059</td>\n    </tr>\n    <tr>\n      <th>std</th>\n      <td>1.783031</td>\n      <td>14.480131</td>\n      <td>1.242792</td>\n      <td>1.566546</td>\n      <td>0.380444</td>\n      <td>0.498893</td>\n    </tr>\n    <tr>\n      <th>min</th>\n      <td>0.000000</td>\n      <td>18.000000</td>\n      <td>1.000000</td>\n      <td>1.000000</td>\n      <td>1.000000</td>\n      <td>0.000000</td>\n    </tr>\n    <tr>\n      <th>25%</th>\n      <td>4.000000</td>\n      <td>45.000000</td>\n      <td>2.000000</td>\n      <td>1.000000</td>\n      <td>3.000000</td>\n      <td>0.000000</td>\n    </tr>\n    <tr>\n      <th>50%</th>\n      <td>4.000000</td>\n      <td>57.000000</td>\n      <td>3.000000</td>\n      <td>3.000000</td>\n      <td>3.000000</td>\n      <td>0.000000</td>\n    </tr>\n    <tr>\n      <th>75%</th>\n      <td>5.000000</td>\n      <td>66.000000</td>\n      <td>4.000000</td>\n      <td>4.000000</td>\n      <td>3.000000</td>\n      <td>1.000000</td>\n    </tr>\n    <tr>\n      <th>max</th>\n      <td>55.000000</td>\n      <td>96.000000</td>\n      <td>4.000000</td>\n      <td>5.000000</td>\n      <td>4.000000</td>\n      <td>1.000000</td>\n    </tr>\n  </tbody>\n</table>\n</div>"
     },
     "metadata": {},
     "execution_count": 95
    }
   ],
   "source": [
    "df.describe()"
   ]
  },
  {
   "source": [
    "Creating two datasets with dropped and filled NaN's for (possible) testing in future to see which one will give better results."
   ],
   "cell_type": "markdown",
   "metadata": {}
  },
  {
   "cell_type": "code",
   "execution_count": 4,
   "metadata": {
    "collapsed": false,
    "deletable": true,
    "editable": true
   },
   "outputs": [],
   "source": [
    "df_fill_na = df.fillna(method='bfill')\n",
    "df_drop_na = df.dropna()"
   ]
  },
  {
   "source": [
    "Converting pandas dataframe to numpy array and normalizing it."
   ],
   "cell_type": "markdown",
   "metadata": {}
  },
  {
   "cell_type": "code",
   "execution_count": 5,
   "metadata": {
    "collapsed": false,
    "deletable": true,
    "editable": true
   },
   "outputs": [],
   "source": [
    "# Features \n",
    "features = df_fill_na[['age', 'shape', 'margin', 'density']].to_numpy()\n",
    "scaler = StandardScaler().fit(features)\n",
    "features_scaled = scaler.transform(features)\n",
    "\n",
    "# Labels\n",
    "labels = df_fill_na[['severity']].to_numpy()"
   ]
  },
  {
   "cell_type": "markdown",
   "metadata": {
    "deletable": true,
    "editable": true
   },
   "source": [
    "## Decision Trees\n",
    "\n",
    "Creating a single train/test split of the data."
   ]
  },
  {
   "cell_type": "code",
   "execution_count": 6,
   "metadata": {
    "collapsed": false,
    "deletable": true,
    "editable": true
   },
   "outputs": [],
   "source": [
    "X_train, X_test, y_train, y_test = train_test_split(features_scaled, labels, test_size=0.20, random_state=42)"
   ]
  },
  {
   "cell_type": "markdown",
   "metadata": {
    "deletable": true,
    "editable": true
   },
   "source": [
    "Creating a Decision Tree / Random Forest Classifier and fit it to the training data."
   ]
  },
  {
   "cell_type": "code",
   "execution_count": 36,
   "metadata": {
    "collapsed": false,
    "deletable": true,
    "editable": true
   },
   "outputs": [],
   "source": [
    "# Decision Tree\n",
    "clf = tree.DecisionTreeClassifier()\n",
    "clf = clf.fit(X_train,y_train)\n",
    "\n",
    "# Random Forest\n",
    "clf_rand_forest = RandomForestClassifier(n_estimators=10)\n",
    "clf_rand_forest = clf_rand_forest.fit(X_train, y_train) "
   ]
  },
  {
   "cell_type": "markdown",
   "metadata": {
    "deletable": true,
    "editable": true
   },
   "source": [
    "Measuring the accuracy of the resulting decision tree model using test data."
   ]
  },
  {
   "cell_type": "code",
   "execution_count": 37,
   "metadata": {
    "collapsed": false,
    "deletable": true,
    "editable": true
   },
   "outputs": [
    {
     "output_type": "stream",
     "name": "stdout",
     "text": [
      "Decision tree score: 0.7823834196891192\nRandom forest score: 0.7668393782383419\n"
     ]
    }
   ],
   "source": [
    "score_dec_tree = clf.score(X_test, y_test)\n",
    "score_rand_forest = clf_rand_forest.score(X_test, y_test)\n",
    "\n",
    "print('Decision tree score: ' + str(score_dec_tree))\n",
    "print('Random forest score: ' + str(score_rand_forest))"
   ]
  },
  {
   "cell_type": "markdown",
   "metadata": {
    "deletable": true,
    "editable": true
   },
   "source": [
    "Using K-Fold cross validation to get a better measure of model's accuracy (K=10).\n"
   ]
  },
  {
   "cell_type": "code",
   "execution_count": 50,
   "metadata": {
    "collapsed": false,
    "deletable": true,
    "editable": true
   },
   "outputs": [
    {
     "output_type": "stream",
     "name": "stdout",
     "text": [
      "Decision tree K-fold validation score: 0.7336984536082475\nRandom forest K-fold validation score: 0.7534579037800688\n"
     ]
    }
   ],
   "source": [
    "# Refit models with all data (not only on training piece)\n",
    "clf_all_data = tree.DecisionTreeClassifier()\n",
    "clf_all_data = clf_all_data.fit(features_scaled, labels)\n",
    "\n",
    "# Random Forest\n",
    "clf_rand_forest_all_data = RandomForestClassifier(n_estimators=10)\n",
    "clf_rand_forest_all_data = clf_rand_forest_all_data.fit(features_scaled, labels) \n",
    "\n",
    "scores_trees_Kcrossval = cross_val_score(clf_all_data, features_scaled, labels, cv=10)\n",
    "scores_rand_forest_Kcrossval = cross_val_score(clf_rand_forest_all_data, features_scaled, labels, cv=10)\n",
    "\n",
    "print('Decision tree K-fold validation score: ' + str(scores_trees_Kcrossval.mean()))\n",
    "print('Random forest K-fold validation score: ' + str(scores_rand_forest_Kcrossval.mean()))"
   ]
  },
  {
   "cell_type": "markdown",
   "metadata": {
    "deletable": true,
    "editable": true
   },
   "source": [
    "## SVM\n",
    "\n",
    "Using svm.SVC with rbf kernel (showed highest score)"
   ]
  },
  {
   "cell_type": "code",
   "execution_count": 51,
   "metadata": {
    "collapsed": false,
    "deletable": true,
    "editable": true
   },
   "outputs": [
    {
     "output_type": "stream",
     "name": "stdout",
     "text": [
      "SVM K-fold validation score: 0.7867053264604811\n"
     ]
    }
   ],
   "source": [
    "clf_svm = svm.SVC(kernel='rbf')\n",
    "scores_svm = cross_val_score(clf_svm, features_scaled, labels, cv=10)\n",
    "\n",
    "print('SVM K-fold validation score: ' + str(scores_svm.mean()))"
   ]
  },
  {
   "cell_type": "markdown",
   "metadata": {
    "deletable": true,
    "editable": true
   },
   "source": [
    "## KNN\n",
    "K-Nearest-Neighbors method. Starting with K hyperparameter as 5."
   ]
  },
  {
   "cell_type": "code",
   "execution_count": 73,
   "metadata": {
    "collapsed": false,
    "deletable": true,
    "editable": true
   },
   "outputs": [
    {
     "output_type": "stream",
     "name": "stdout",
     "text": [
      "KNN score: 0.7596756872852233\n"
     ]
    }
   ],
   "source": [
    "neigh = KNeighborsClassifier(n_neighbors=5)\n",
    "neigh = neigh.fit(features_scaled, labels)\n",
    "\n",
    "scores_KNN = cross_val_score(neigh, features_scaled, labels, cv=10)\n",
    "print('KNN score: ' + str(scores_KNN.mean()))"
   ]
  },
  {
   "source": [
    "Now making an algo to choose the best K for our dataset in range from 1 to 50."
   ],
   "cell_type": "markdown",
   "metadata": {}
  },
  {
   "cell_type": "code",
   "execution_count": 91,
   "metadata": {},
   "outputs": [
    {
     "output_type": "stream",
     "name": "stdout",
     "text": [
      "Max KNN score: 0.7877684707903778 when K=41\n"
     ]
    }
   ],
   "source": [
    "def choose_K(X, y):\n",
    "    K = []\n",
    "    for i in range(1, 50):\n",
    "        neigh = KNeighborsClassifier(n_neighbors=i)\n",
    "        neigh = neigh.fit(X, y)\n",
    "        scores_KNN = cross_val_score(neigh, X, y, cv=10)\n",
    "        K.append(scores_KNN.mean())\n",
    "    return K\n",
    "\n",
    "K_eval = choose_K(features_scaled, labels)\n",
    "max_KNN_score = max(K_eval)\n",
    "index_KNN_max = K.index(max_KNN_score)\n",
    "\n",
    "print('Max KNN score: {0} when K={1}'.format(max_KNN_score, index_KNN_max))"
   ]
  },
  {
   "cell_type": "markdown",
   "metadata": {
    "deletable": true,
    "editable": true
   },
   "source": [
    "## Naive Bayes\n",
    "\n",
    " naive_bayes.MultinomialNB.\n",
    " MinMaxScaler to get the features in the range MultinomialNB requires."
   ]
  },
  {
   "cell_type": "code",
   "execution_count": null,
   "metadata": {
    "collapsed": false,
    "deletable": true,
    "editable": true
   },
   "outputs": [],
   "source": []
  },
  {
   "cell_type": "markdown",
   "metadata": {
    "deletable": true,
    "editable": true
   },
   "source": [
    "## Logistic Regression\n",
    "\n",
    "Trying Logistic Regression"
   ]
  },
  {
   "cell_type": "code",
   "execution_count": null,
   "metadata": {
    "collapsed": true,
    "deletable": true,
    "editable": true
   },
   "outputs": [],
   "source": []
  },
  {
   "cell_type": "markdown",
   "metadata": {
    "deletable": true,
    "editable": true
   },
   "source": [
    "## Neural Network\n",
    "\n"
   ]
  },
  {
   "cell_type": "code",
   "execution_count": null,
   "metadata": {
    "collapsed": false,
    "deletable": true,
    "editable": true
   },
   "outputs": [],
   "source": []
  }
 ],
 "metadata": {
  "kernelspec": {
   "display_name": "Python 3",
   "language": "python",
   "name": "python3"
  },
  "language_info": {
   "codemirror_mode": {
    "name": "ipython",
    "version": 3
   },
   "file_extension": ".py",
   "mimetype": "text/x-python",
   "name": "python",
   "nbconvert_exporter": "python",
   "pygments_lexer": "ipython3",
   "version": "3.8.5-final"
  }
 },
 "nbformat": 4,
 "nbformat_minor": 2
}